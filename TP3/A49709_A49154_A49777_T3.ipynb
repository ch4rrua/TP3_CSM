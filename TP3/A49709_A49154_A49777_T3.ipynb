{
 "cells": [
  {
   "attachments": {},
   "cell_type": "markdown",
   "metadata": {},
   "source": [
    "# ISEL - CSM\n",
    "## Semestre 22/23\n",
    "# <br>\n",
    "###  <center> 3º Trabalho Prático </center>\n",
    "# </br>\n",
    "\n",
    "Trabalho realizado por:\n",
    "* Guilherme Prazeres, numero <b> 49777 </b>\n",
    "* Tiago Figueiredo, numero <b> 49154 </b>\n",
    "* Tomás Charrua, numero <b> 49709 </b>\n",
    "\n",
    "<hr style=\"border:1px color:black\"> </hr>"
   ]
  },
  {
   "attachments": {},
   "cell_type": "markdown",
   "metadata": {},
   "source": [
    "<center><h3>Introdução</h3></center>\n",
    "O objetivo deste trabalho é implementar e analisar o desempenho dum codificador/descodificador JPEG sequencial\n",
    "para compressão de imagens a tons de cinzento. Deve ter em consideração que as funções realizadas devem conter uma\n",
    "descrição e recomenda-se o uso de células “Markdown” para o efeito. Os resultados obtidos devem estar claramente\n",
    "apresentados.\n",
    "<hr style=\"border:1px color:black\"> </hr>"
   ]
  },
  {
   "cell_type": "code",
   "execution_count": 57,
   "metadata": {},
   "outputs": [
    {
     "name": "stdout",
     "output_type": "stream",
     "text": [
      "Requirement already satisfied: scipy in c:\\users\\tomás charrua\\appdata\\local\\programs\\python\\python39\\lib\\site-packages (1.10.1)\n",
      "Requirement already satisfied: numpy<1.27.0,>=1.19.5 in c:\\users\\tomás charrua\\appdata\\local\\programs\\python\\python39\\lib\\site-packages (from scipy) (1.23.3)\n",
      "Note: you may need to restart the kernel to use updated packages.\n"
     ]
    },
    {
     "name": "stderr",
     "output_type": "stream",
     "text": [
      "WARNING: You are using pip version 21.2.3; however, version 23.1.2 is available.\n",
      "You should consider upgrading via the 'c:\\Users\\Tomás Charrua\\AppData\\Local\\Programs\\Python\\Python39\\python.exe -m pip install --upgrade pip' command.\n"
     ]
    }
   ],
   "source": [
    "#%pip install opencv-python\n",
    "%pip install scipy"
   ]
  },
  {
   "cell_type": "code",
   "execution_count": 58,
   "metadata": {},
   "outputs": [],
   "source": [
    "# Importar Bibliotecas\n",
    "import numpy as np\n",
    "from time import time\n",
    "import os\n",
    "import cv2 as cv\n",
    "from matplotlib import pyplot as plt"
   ]
  },
  {
   "cell_type": "code",
   "execution_count": 59,
   "metadata": {},
   "outputs": [],
   "source": [
    "imagem = cv.imread(\"LenaGray.tif\")\n",
    "imagem = cv.cvtColor(imagem, cv.COLOR_BGR2GRAY)"
   ]
  },
  {
   "cell_type": "code",
   "execution_count": 60,
   "metadata": {},
   "outputs": [
    {
     "data": {
      "text/plain": [
       "array([[162, 162, 162, ..., 170, 155, 128],\n",
       "       [162, 162, 162, ..., 170, 155, 128],\n",
       "       [162, 162, 162, ..., 170, 155, 128],\n",
       "       ...,\n",
       "       [ 43,  43,  50, ..., 104, 100,  98],\n",
       "       [ 44,  44,  55, ..., 104, 105, 108],\n",
       "       [ 44,  44,  55, ..., 104, 105, 108]], dtype=uint8)"
      ]
     },
     "execution_count": 60,
     "metadata": {},
     "output_type": "execute_result"
    }
   ],
   "source": [
    "imagem"
   ]
  },
  {
   "cell_type": "code",
   "execution_count": 61,
   "metadata": {},
   "outputs": [
    {
     "data": {
      "text/plain": [
       "(512, 512)"
      ]
     },
     "execution_count": 61,
     "metadata": {},
     "output_type": "execute_result"
    }
   ],
   "source": [
    "imagem.shape"
   ]
  },
  {
   "attachments": {},
   "cell_type": "markdown",
   "metadata": {},
   "source": [
    "<h1>Exercicio 1 </h1>\n",
    "Construa uma função (codificador) que para cada bloco de 8×8 da imagem original efetue a DCT bidimensional\n",
    "e construa outra função (descodificador) que faça a DCT inversa. Ver funções: cv2.dct() e cv2.idct())\n",
    "Visualize a imagem depois da DCT e verifique que a DCT inversa resulta na imagem original."
   ]
  },
  {
   "cell_type": "code",
   "execution_count": 62,
   "metadata": {},
   "outputs": [],
   "source": [
    "def acertar_tamanho_imagem(imagem):\n",
    "\n",
    "    nlinhas = imagem.shape[0]\n",
    "    ncolunas = imagem.shape[1]\n",
    "\n",
    "\n",
    "    nlinhas_extra = 0 #número de linhas a adicionar para tornar a dimenão da imagem divisível por 8\n",
    "    ncolunas_extra = 0 #número de colunas a adicionar para tornar a dimenão da imagem divisível por 8\n",
    "\n",
    "    if np.remainder(nlinhas, 8) > 0:\n",
    "        nlinhas_extra = 8 - (nlinhas % 8)\n",
    "    if np.remainder(ncolunas, 8) > 0:\n",
    "        ncolunas_extra = 8 - (ncolunas % 8)\n",
    "\n",
    "    #nova imagem com as dimensões atualizadas\n",
    "    nova_imagem = np.zeros((nlinhas + nlinhas_extra, ncolunas + ncolunas_extra))\n",
    "\n",
    "    #coloca-se o valor da imagem original nas dimensões respetivas\n",
    "    nova_imagem[:nlinhas, :ncolunas] = imagem\n",
    "\n",
    "    ultima_col = imagem[:, 1]\n",
    "    for i in range(ncolunas_extra):\n",
    "        nova_imagem[:, ncolunas + i] = ultima_col\n",
    "\n",
    "    ultima_linha = nova_imagem[-1, :]\n",
    "    for j in range(nlinhas_extra):\n",
    "        nova_imagem[nlinhas + j, :] = ultima_linha\n",
    "\n",
    "    return nova_imagem, nlinhas_extra, ncolunas_extra\n"
   ]
  },
  {
   "cell_type": "code",
   "execution_count": 63,
   "metadata": {},
   "outputs": [],
   "source": [
    "def revert_imagem(imagem, nlinhas_extra, ncolunas_extra):\n",
    "    \n",
    "    nlinhas = imagem.shape[0] - nlinhas_extra\n",
    "    ncolunas = imagem.shape[1] - ncolunas_extra\n",
    "\n",
    "    imagem_original = imagem[:nlinhas, :ncolunas]\n",
    "\n",
    "    return imagem_original"
   ]
  },
  {
   "cell_type": "code",
   "execution_count": 64,
   "metadata": {},
   "outputs": [
    {
     "name": "stdout",
     "output_type": "stream",
     "text": [
      "[[162. 162. 162. ... 170. 155. 128.]\n",
      " [162. 162. 162. ... 170. 155. 128.]\n",
      " [162. 162. 162. ... 170. 155. 128.]\n",
      " ...\n",
      " [ 43.  43.  50. ... 104. 100.  98.]\n",
      " [ 44.  44.  55. ... 104. 105. 108.]\n",
      " [ 44.  44.  55. ... 104. 105. 108.]]\n",
      "Nº de linhas adicionadas: 0\n",
      "Nº de colunas adicionadas: 0\n"
     ]
    }
   ],
   "source": [
    "resized_image, nlinhas_extra, ncolunas_extra = acertar_tamanho_imagem(imagem)\n",
    "print(resized_image)\n",
    "print(\"Nº de linhas adicionadas:\", nlinhas_extra)\n",
    "print(\"Nº de colunas adicionadas:\", ncolunas_extra)"
   ]
  },
  {
   "cell_type": "code",
   "execution_count": 65,
   "metadata": {},
   "outputs": [],
   "source": [
    "def divide_imagem_8x8(imagem):\n",
    "    nlinhas, ncolunas = imagem.shape\n",
    "\n",
    "    num_blocos_linhas = nlinhas // 8\n",
    "    num_blocos_colunas = ncolunas // 8\n",
    "\n",
    "    imagem_dividida = np.zeros((num_blocos_linhas, num_blocos_colunas, 8, 8))\n",
    "\n",
    "    for i in range(num_blocos_linhas):\n",
    "        for j in range(num_blocos_colunas):\n",
    "            bloco = imagem[i*8:(i+1)*8, j*8:(j+1)*8]\n",
    "            imagem_dividida[i, j] = bloco\n",
    "\n",
    "    return imagem_dividida"
   ]
  },
  {
   "cell_type": "code",
   "execution_count": 66,
   "metadata": {},
   "outputs": [
    {
     "name": "stdout",
     "output_type": "stream",
     "text": [
      "[[[[162. 162. 162. ... 157. 163. 161.]\n",
      "   [162. 162. 162. ... 157. 163. 161.]\n",
      "   [162. 162. 162. ... 157. 163. 161.]\n",
      "   ...\n",
      "   [164. 164. 158. ... 159. 159. 160.]\n",
      "   [160. 160. 163. ... 162. 159. 156.]\n",
      "   [159. 159. 155. ... 159. 156. 157.]]\n",
      "\n",
      "  [[165. 161. 162. ... 163. 160. 155.]\n",
      "   [165. 161. 162. ... 163. 160. 155.]\n",
      "   [165. 161. 162. ... 163. 160. 155.]\n",
      "   ...\n",
      "   [160. 160. 155. ... 154. 156. 154.]\n",
      "   [159. 162. 156. ... 155. 156. 152.]\n",
      "   [159. 161. 161. ... 153. 153. 151.]]\n",
      "\n",
      "  [[157. 156. 161. ... 156. 154. 157.]\n",
      "   [157. 156. 161. ... 156. 154. 157.]\n",
      "   [157. 156. 161. ... 156. 154. 157.]\n",
      "   ...\n",
      "   [156. 156. 153. ... 153. 153. 150.]\n",
      "   [153. 160. 154. ... 150. 155. 152.]\n",
      "   [155. 154. 156. ... 153. 152. 152.]]\n",
      "\n",
      "  ...\n",
      "\n",
      "  [[125. 121. 129. ... 127. 119. 123.]\n",
      "   [125. 121. 129. ... 127. 119. 123.]\n",
      "   [125. 121. 129. ... 127. 119. 123.]\n",
      "   ...\n",
      "   [126. 126. 129. ... 125. 121. 123.]\n",
      "   [123. 125. 125. ... 126. 126. 124.]\n",
      "   [121. 127. 129. ... 128. 125. 125.]]\n",
      "\n",
      "  [[114. 121. 116. ... 115. 120. 124.]\n",
      "   [114. 121. 116. ... 115. 120. 124.]\n",
      "   [114. 121. 116. ... 115. 120. 124.]\n",
      "   ...\n",
      "   [119. 115. 114. ... 122. 126. 126.]\n",
      "   [119. 120. 118. ... 126. 130. 129.]\n",
      "   [123. 124. 120. ... 126. 127. 124.]]\n",
      "\n",
      "  [[138. 164. 168. ... 170. 155. 128.]\n",
      "   [138. 164. 168. ... 170. 155. 128.]\n",
      "   [138. 164. 168. ... 170. 155. 128.]\n",
      "   ...\n",
      "   [137. 143. 149. ... 124. 103.  77.]\n",
      "   [127. 128. 122. ...  79.  64.  58.]\n",
      "   [114.  95.  83. ...  50.  55.  47.]]]\n",
      "\n",
      "\n",
      " [[[155. 155. 158. ... 160. 157. 157.]\n",
      "   [155. 155. 157. ... 154. 155. 157.]\n",
      "   [156. 156. 156. ... 155. 155. 152.]\n",
      "   ...\n",
      "   [157. 157. 157. ... 157. 156. 156.]\n",
      "   [158. 158. 159. ... 158. 158. 156.]\n",
      "   [158. 158. 159. ... 158. 157. 154.]]\n",
      "\n",
      "  [[163. 157. 158. ... 154. 156. 157.]\n",
      "   [161. 154. 155. ... 157. 157. 152.]\n",
      "   [158. 158. 157. ... 154. 158. 154.]\n",
      "   ...\n",
      "   [159. 155. 154. ... 155. 154. 160.]\n",
      "   [155. 156. 151. ... 156. 156. 155.]\n",
      "   [157. 157. 157. ... 156. 154. 156.]]\n",
      "\n",
      "  [[155. 155. 162. ... 153. 156. 152.]\n",
      "   [156. 155. 153. ... 157. 155. 153.]\n",
      "   [155. 158. 153. ... 156. 157. 154.]\n",
      "   ...\n",
      "   [159. 155. 158. ... 160. 150. 155.]\n",
      "   [155. 159. 155. ... 155. 155. 154.]\n",
      "   [157. 155. 157. ... 156. 154. 156.]]\n",
      "\n",
      "  ...\n",
      "\n",
      "  [[123. 128. 127. ... 129. 127. 125.]\n",
      "   [126. 127. 126. ... 125. 131. 131.]\n",
      "   [123. 124. 124. ... 129. 132. 136.]\n",
      "   ...\n",
      "   [125. 125. 125. ... 137. 133. 133.]\n",
      "   [128. 132. 128. ... 136. 131. 124.]\n",
      "   [132. 133. 129. ... 134. 123. 112.]]\n",
      "\n",
      "  [[128. 130. 125. ... 129. 123. 108.]\n",
      "   [124. 130. 127. ... 119. 105.  97.]\n",
      "   [131. 131. 130. ... 107.  91.  77.]\n",
      "   ...\n",
      "   [124. 116. 109. ...  57.  60.  66.]\n",
      "   [113. 103.  89. ...  47.  50.  72.]\n",
      "   [100.  84.  64. ...  42.  43.  50.]]\n",
      "\n",
      "  [[ 95.  73.  64. ...  46.  47.  49.]\n",
      "   [ 82.  60.  53. ...  47.  46.  44.]\n",
      "   [ 61.  48.  50. ...  46.  51.  51.]\n",
      "   ...\n",
      "   [ 49.  42.  40. ...  50.  49.  50.]\n",
      "   [ 52.  50.  49. ...  52.  49.  51.]\n",
      "   [ 48.  47.  45. ...  46.  55.  48.]]]\n",
      "\n",
      "\n",
      " [[[156. 156. 155. ... 156. 157. 153.]\n",
      "   [157. 157. 155. ... 153. 150. 154.]\n",
      "   [157. 157. 159. ... 157. 154. 154.]\n",
      "   ...\n",
      "   [155. 155. 155. ... 156. 157. 156.]\n",
      "   [159. 159. 155. ... 151. 156. 157.]\n",
      "   [156. 156. 157. ... 156. 156. 157.]]\n",
      "\n",
      "  [[154. 157. 153. ... 157. 155. 157.]\n",
      "   [156. 159. 158. ... 157. 155. 156.]\n",
      "   [157. 157. 154. ... 159. 161. 157.]\n",
      "   ...\n",
      "   [159. 151. 155. ... 159. 155. 156.]\n",
      "   [157. 157. 152. ... 158. 158. 159.]\n",
      "   [156. 162. 156. ... 157. 158. 157.]]\n",
      "\n",
      "  [[153. 156. 155. ... 157. 154. 157.]\n",
      "   [155. 153. 153. ... 153. 156. 156.]\n",
      "   [159. 158. 159. ... 153. 154. 156.]\n",
      "   ...\n",
      "   [158. 157. 159. ... 153. 153. 153.]\n",
      "   [159. 162. 158. ... 158. 157. 155.]\n",
      "   [160. 157. 155. ... 154. 159. 157.]]\n",
      "\n",
      "  ...\n",
      "\n",
      "  [[132. 134. 136. ... 122. 112.  95.]\n",
      "   [135. 137. 131. ... 113.  96.  80.]\n",
      "   [138. 138. 129. ...  93.  83.  57.]\n",
      "   ...\n",
      "   [129. 110.  95. ...  52.  46.  45.]\n",
      "   [115.  91.  71. ...  53.  41.  42.]\n",
      "   [ 97.  71.  56. ...  58.  46.  54.]]\n",
      "\n",
      "  [[ 82.  62.  47. ...  42.  40.  48.]\n",
      "   [ 61.  47.  45. ...  45.  46.  40.]\n",
      "   [ 50.  43.  40. ...  46.  46.  43.]\n",
      "   ...\n",
      "   [ 45.  41.  41. ...  53.  49.  44.]\n",
      "   [ 45.  44.  45. ...  62.  47.  51.]\n",
      "   [ 63.  51.  50. ...  51.  47.  47.]]\n",
      "\n",
      "  [[ 44.  50.  49. ...  42.  49.  53.]\n",
      "   [ 49.  51.  47. ...  40.  45.  53.]\n",
      "   [ 50.  46.  50. ...  49.  46.  50.]\n",
      "   ...\n",
      "   [ 41.  43.  48. ...  47.  55.  50.]\n",
      "   [ 52.  43.  48. ...  56.  52.  54.]\n",
      "   [ 47.  48.  48. ...  47.  48.  61.]]]\n",
      "\n",
      "\n",
      " ...\n",
      "\n",
      "\n",
      " [[[ 55.  55.  77. ... 104. 112. 111.]\n",
      "   [ 48.  48.  66. ...  93. 102. 105.]\n",
      "   [ 43.  43.  61. ...  89.  95.  88.]\n",
      "   ...\n",
      "   [ 44.  44.  51. ...  67.  87.  81.]\n",
      "   [ 51.  51.  50. ...  58.  68.  84.]\n",
      "   [ 47.  47.  57. ...  58.  66.  73.]]\n",
      "\n",
      "  [[113. 115. 108. ... 119. 132. 138.]\n",
      "   [100. 102. 102. ... 117. 127. 141.]\n",
      "   [ 99.  94.  97. ... 115. 128. 141.]\n",
      "   ...\n",
      "   [ 92.  90.  94. ... 111. 122. 132.]\n",
      "   [ 89.  82.  89. ... 106. 115. 125.]\n",
      "   [ 79.  80.  88. ... 100. 116. 125.]]\n",
      "\n",
      "  [[160. 164. 173. ... 178. 175. 174.]\n",
      "   [153. 162. 165. ... 179. 179. 178.]\n",
      "   [154. 161. 169. ... 180. 180. 178.]\n",
      "   ...\n",
      "   [149. 158. 168. ... 175. 175. 175.]\n",
      "   [144. 155. 165. ... 174. 174. 172.]\n",
      "   [141. 155. 162. ... 174. 175. 173.]]\n",
      "\n",
      "  ...\n",
      "\n",
      "  [[106. 113. 109. ...  99.  96.  93.]\n",
      "   [111. 108. 105. ...  99.  97.  96.]\n",
      "   [112. 111. 105. ...  99.  98.  96.]\n",
      "   ...\n",
      "   [114. 110. 100. ...  96.  90.  84.]\n",
      "   [118. 113. 106. ...  93.  89.  79.]\n",
      "   [110. 104. 109. ...  92.  84.  79.]]\n",
      "\n",
      "  [[ 93.  83.  76. ...  56.  57.  62.]\n",
      "   [ 88.  79.  69. ...  65.  63.  73.]\n",
      "   [ 87.  80.  66. ...  61.  68.  77.]\n",
      "   ...\n",
      "   [ 74.  74.  72. ...  65.  62.  56.]\n",
      "   [ 73.  69.  70. ...  62.  64.  57.]\n",
      "   [ 76.  75.  65. ...  60.  59.  60.]]\n",
      "\n",
      "  [[ 75.  69.  69. ...  69.  58.  54.]\n",
      "   [ 69.  68.  67. ...  64.  63.  57.]\n",
      "   [ 74.  67.  64. ...  60.  60.  55.]\n",
      "   ...\n",
      "   [ 58.  60.  63. ...  56.  49.  45.]\n",
      "   [ 61.  65.  61. ...  53.  50.  47.]\n",
      "   [ 59.  61.  64. ...  51.  63.  56.]]]\n",
      "\n",
      "\n",
      " [[[ 50.  50.  58. ...  47.  65.  67.]\n",
      "   [ 58.  58.  59. ...  58.  61.  63.]\n",
      "   [ 50.  50.  67. ...  63.  64.  61.]\n",
      "   ...\n",
      "   [ 50.  50.  52. ...  53.  50.  55.]\n",
      "   [ 48.  48.  56. ...  51.  50.  55.]\n",
      "   [ 49.  49.  54. ...  49.  48.  52.]]\n",
      "\n",
      "  [[ 77.  84.  86. ... 100. 117. 121.]\n",
      "   [ 73.  78.  81. ...  87. 110. 117.]\n",
      "   [ 67.  77.  77. ...  91. 110. 118.]\n",
      "   ...\n",
      "   [ 69.  62.  65. ...  72.  96. 121.]\n",
      "   [ 60.  63.  61. ...  74. 104. 123.]\n",
      "   [ 54.  59.  59. ...  72. 105. 124.]]\n",
      "\n",
      "  [[135. 154. 165. ... 176. 179. 177.]\n",
      "   [141. 154. 165. ... 181. 180. 179.]\n",
      "   [140. 156. 166. ... 186. 191. 188.]\n",
      "   ...\n",
      "   [141. 171. 187. ... 206. 203. 202.]\n",
      "   [143. 174. 192. ... 204. 204. 202.]\n",
      "   [145. 183. 196. ... 204. 204. 203.]]\n",
      "\n",
      "  ...\n",
      "\n",
      "  [[106. 104. 104. ...  83.  83.  69.]\n",
      "   [106. 105. 101. ...  84.  70.  72.]\n",
      "   [111. 109.  96. ...  77.  70.  72.]\n",
      "   ...\n",
      "   [ 97.  91.  88. ...  65.  66.  62.]\n",
      "   [ 91.  90.  78. ...  73.  58.  64.]\n",
      "   [ 92.  85.  73. ...  63.  58.  57.]]\n",
      "\n",
      "  [[ 75.  71.  66. ...  56.  61.  63.]\n",
      "   [ 67.  62.  61. ...  59.  54.  63.]\n",
      "   [ 60.  58.  57. ...  65.  57.  54.]\n",
      "   ...\n",
      "   [ 60.  54.  57. ...  58.  62.  49.]\n",
      "   [ 52.  59.  56. ...  57.  55.  51.]\n",
      "   [ 57.  49.  51. ...  62.  53.  54.]]\n",
      "\n",
      "  [[ 66.  61.  58. ...  55.  59.  48.]\n",
      "   [ 59.  54.  57. ...  58.  52.  51.]\n",
      "   [ 51.  52.  50. ...  53.  46.  45.]\n",
      "   ...\n",
      "   [ 52.  55.  51. ...  56.  65.  64.]\n",
      "   [ 54.  60.  57. ...  59.  70.  82.]\n",
      "   [ 49.  46.  49. ...  68.  75.  92.]]]\n",
      "\n",
      "\n",
      " [[[ 48.  48.  53. ...  57.  51.  53.]\n",
      "   [ 47.  47.  55. ...  55.  52.  51.]\n",
      "   [ 48.  48.  57. ...  54.  50.  57.]\n",
      "   ...\n",
      "   [ 43.  43.  50. ...  47.  50.  49.]\n",
      "   [ 44.  44.  55. ...  47.  50.  51.]\n",
      "   [ 44.  44.  55. ...  47.  50.  51.]]\n",
      "\n",
      "  [[ 59.  65.  56. ...  74. 104. 130.]\n",
      "   [ 56.  60.  55. ...  71. 106. 128.]\n",
      "   [ 63.  51.  55. ...  70. 104. 129.]\n",
      "   ...\n",
      "   [ 60.  52.  45. ...  64.  82. 112.]\n",
      "   [ 58.  51.  46. ...  53.  79. 109.]\n",
      "   [ 58.  51.  46. ...  53.  79. 109.]]\n",
      "\n",
      "  [[155. 192. 195. ... 203. 204. 202.]\n",
      "   [158. 195. 196. ... 202. 203. 205.]\n",
      "   [159. 196. 195. ... 198. 201. 205.]\n",
      "   ...\n",
      "   [150. 192. 194. ... 200. 200. 198.]\n",
      "   [145. 184. 195. ... 200. 198. 198.]\n",
      "   [145. 184. 195. ... 200. 198. 198.]]\n",
      "\n",
      "  ...\n",
      "\n",
      "  [[ 84.  82.  75. ...  62.  52.  56.]\n",
      "   [ 81.  82.  64. ...  52.  50.  47.]\n",
      "   [ 74.  70.  64. ...  55.  44.  44.]\n",
      "   ...\n",
      "   [ 58.  53.  50. ...  45.  49.  45.]\n",
      "   [ 58.  57.  51. ...  41.  42.  50.]\n",
      "   [ 58.  57.  51. ...  41.  42.  50.]]\n",
      "\n",
      "  [[ 52.  49.  52. ...  57.  59.  75.]\n",
      "   [ 44.  47.  51. ...  56.  51.  69.]\n",
      "   [ 47.  59.  55. ...  58.  67.  66.]\n",
      "   ...\n",
      "   [ 48.  52.  46. ...  59.  70.  69.]\n",
      "   [ 46.  52.  54. ...  72.  76.  83.]\n",
      "   [ 46.  52.  54. ...  72.  76.  83.]]\n",
      "\n",
      "  [[ 57.  51.  61. ...  71.  78.  86.]\n",
      "   [ 59.  61.  72. ...  82.  91.  94.]\n",
      "   [ 58.  66.  75. ...  90.  88.  95.]\n",
      "   ...\n",
      "   [ 79.  81.  92. ... 104. 100.  98.]\n",
      "   [ 94.  92.  97. ... 104. 105. 108.]\n",
      "   [ 94.  92.  97. ... 104. 105. 108.]]]]\n",
      "(64, 64, 8, 8)\n"
     ]
    }
   ],
   "source": [
    "imagem_dividida = divide_imagem_8x8(imagem)\n",
    "print(imagem_dividida)\n",
    "print(imagem_dividida.shape)\n",
    "\n",
    "#for i in range(blocos.shape[0]):\n",
    "#    for j in range(blocos.shape[1]):\n",
    "#        print(blocos[i, j])"
   ]
  },
  {
   "cell_type": "code",
   "execution_count": 67,
   "metadata": {},
   "outputs": [],
   "source": [
    "def reconstruir_imagem(imagem_8x8, nLinhas, nColunas):\n",
    "    imagem_reconstruida = np.zeros((nLinhas, nColunas))\n",
    "    num_blocos_linhas, num_blocos_colunas, _, _ = imagem_8x8.shape\n",
    "\n",
    "    for i in range(num_blocos_linhas):\n",
    "        for j in range(num_blocos_colunas):\n",
    "            bloco = imagem_8x8[i, j]\n",
    "            imagem_reconstruida[i*8:(i+1)*8, j*8:(j+1)*8] = bloco\n",
    "    return imagem_reconstruida"
   ]
  },
  {
   "cell_type": "code",
   "execution_count": 68,
   "metadata": {},
   "outputs": [
    {
     "data": {
      "text/plain": [
       "(512, 512)"
      ]
     },
     "execution_count": 68,
     "metadata": {},
     "output_type": "execute_result"
    }
   ],
   "source": [
    "imagem_reconstruida = reconstruir_imagem(imagem_dividida, imagem.shape[0], imagem.shape[1])\n",
    "imagem_reconstruida\n",
    "imagem_reconstruida.shape"
   ]
  },
  {
   "cell_type": "code",
   "execution_count": 69,
   "metadata": {},
   "outputs": [],
   "source": [
    "def dct_bloco(bloco):\n",
    "    b = np.array(bloco)\n",
    "    b = b - 128\n",
    "    return np.round(cv.dct(b.astype(np.float32)), 2)\n"
   ]
  },
  {
   "cell_type": "code",
   "execution_count": null,
   "metadata": {},
   "outputs": [],
   "source": []
  },
  {
   "cell_type": "code",
   "execution_count": 70,
   "metadata": {},
   "outputs": [],
   "source": [
    "def dct_blocos(blocos):\n",
    "    num_blocos = len(blocos)\n",
    "    b = np.zeros_like(blocos)\n",
    "    for i in range(num_blocos):\n",
    "        b[i] = dct_bloco(blocos[i])\n",
    "    return b\n"
   ]
  },
  {
   "cell_type": "code",
   "execution_count": 71,
   "metadata": {},
   "outputs": [],
   "source": [
    "def reverter_DCT(blocos):\n",
    "    num_blocos = len(blocos)\n",
    "    blocos_destransformados = np.array(blocos)\n",
    "    for i in range(num_blocos):\n",
    "        b_trans = np.round(cv.idct(blocos[i].astype(np.float32)), 2) + 128\n",
    "        blocos_destransformados[i] = b_trans\n",
    "    return blocos_destransformados"
   ]
  },
  {
   "cell_type": "code",
   "execution_count": null,
   "metadata": {},
   "outputs": [],
   "source": []
  },
  {
   "cell_type": "code",
   "execution_count": 72,
   "metadata": {},
   "outputs": [
    {
     "name": "stdout",
     "output_type": "stream",
     "text": [
      "(64, 64, 8, 8)\n"
     ]
    },
    {
     "ename": "error",
     "evalue": "OpenCV(4.7.0) D:\\a\\opencv-python\\opencv-python\\opencv\\modules\\core\\src\\dxt.cpp:4417: error: (-215:Assertion failed) type == CV_32FC1 || type == CV_64FC1 in function 'cv::dct'\n",
     "output_type": "error",
     "traceback": [
      "\u001b[1;31m---------------------------------------------------------------------------\u001b[0m",
      "\u001b[1;31merror\u001b[0m                                     Traceback (most recent call last)",
      "\u001b[1;32mc:\\Users\\Tomás Charrua\\OneDrive - Instituto Superior de Engenharia de Lisboa\\Faculdade\\4ºsemestre\\CSM\\TP3\\A49709_A49154_A49777_T3.ipynb Cell 21\u001b[0m in \u001b[0;36m2\n\u001b[0;32m      <a href='vscode-notebook-cell:/c%3A/Users/Tom%C3%A1s%20Charrua/OneDrive%20-%20Instituto%20Superior%20de%20Engenharia%20de%20Lisboa/Faculdade/4%C2%BAsemestre/CSM/TP3/A49709_A49154_A49777_T3.ipynb#X24sZmlsZQ%3D%3D?line=0'>1</a>\u001b[0m \u001b[39mprint\u001b[39m(imagem_dividida\u001b[39m.\u001b[39mshape)\n\u001b[1;32m----> <a href='vscode-notebook-cell:/c%3A/Users/Tom%C3%A1s%20Charrua/OneDrive%20-%20Instituto%20Superior%20de%20Engenharia%20de%20Lisboa/Faculdade/4%C2%BAsemestre/CSM/TP3/A49709_A49154_A49777_T3.ipynb#X24sZmlsZQ%3D%3D?line=1'>2</a>\u001b[0m imagem_dct \u001b[39m=\u001b[39m dct_blocos(imagem_dividida)\n\u001b[0;32m      <a href='vscode-notebook-cell:/c%3A/Users/Tom%C3%A1s%20Charrua/OneDrive%20-%20Instituto%20Superior%20de%20Engenharia%20de%20Lisboa/Faculdade/4%C2%BAsemestre/CSM/TP3/A49709_A49154_A49777_T3.ipynb#X24sZmlsZQ%3D%3D?line=3'>4</a>\u001b[0m T_imagem_idct \u001b[39m=\u001b[39m reverter_DCT(imagem_dct)\n\u001b[0;32m      <a href='vscode-notebook-cell:/c%3A/Users/Tom%C3%A1s%20Charrua/OneDrive%20-%20Instituto%20Superior%20de%20Engenharia%20de%20Lisboa/Faculdade/4%C2%BAsemestre/CSM/TP3/A49709_A49154_A49777_T3.ipynb#X24sZmlsZQ%3D%3D?line=4'>5</a>\u001b[0m T_imagem \u001b[39m=\u001b[39m reconstruir_imagem(T_imagem_idct, imagem\u001b[39m.\u001b[39mshape[\u001b[39m0\u001b[39m], imagem\u001b[39m.\u001b[39mshape[\u001b[39m1\u001b[39m])\u001b[39m.\u001b[39mastype(\u001b[39m'\u001b[39m\u001b[39muint8\u001b[39m\u001b[39m'\u001b[39m)\n",
      "\u001b[1;32mc:\\Users\\Tomás Charrua\\OneDrive - Instituto Superior de Engenharia de Lisboa\\Faculdade\\4ºsemestre\\CSM\\TP3\\A49709_A49154_A49777_T3.ipynb Cell 21\u001b[0m in \u001b[0;36m5\n\u001b[0;32m      <a href='vscode-notebook-cell:/c%3A/Users/Tom%C3%A1s%20Charrua/OneDrive%20-%20Instituto%20Superior%20de%20Engenharia%20de%20Lisboa/Faculdade/4%C2%BAsemestre/CSM/TP3/A49709_A49154_A49777_T3.ipynb#X24sZmlsZQ%3D%3D?line=2'>3</a>\u001b[0m b \u001b[39m=\u001b[39m np\u001b[39m.\u001b[39mzeros_like(blocos)\n\u001b[0;32m      <a href='vscode-notebook-cell:/c%3A/Users/Tom%C3%A1s%20Charrua/OneDrive%20-%20Instituto%20Superior%20de%20Engenharia%20de%20Lisboa/Faculdade/4%C2%BAsemestre/CSM/TP3/A49709_A49154_A49777_T3.ipynb#X24sZmlsZQ%3D%3D?line=3'>4</a>\u001b[0m \u001b[39mfor\u001b[39;00m i \u001b[39min\u001b[39;00m \u001b[39mrange\u001b[39m(num_blocos):\n\u001b[1;32m----> <a href='vscode-notebook-cell:/c%3A/Users/Tom%C3%A1s%20Charrua/OneDrive%20-%20Instituto%20Superior%20de%20Engenharia%20de%20Lisboa/Faculdade/4%C2%BAsemestre/CSM/TP3/A49709_A49154_A49777_T3.ipynb#X24sZmlsZQ%3D%3D?line=4'>5</a>\u001b[0m     b[i] \u001b[39m=\u001b[39m dct_bloco(blocos[i])\n\u001b[0;32m      <a href='vscode-notebook-cell:/c%3A/Users/Tom%C3%A1s%20Charrua/OneDrive%20-%20Instituto%20Superior%20de%20Engenharia%20de%20Lisboa/Faculdade/4%C2%BAsemestre/CSM/TP3/A49709_A49154_A49777_T3.ipynb#X24sZmlsZQ%3D%3D?line=5'>6</a>\u001b[0m \u001b[39mreturn\u001b[39;00m b\n",
      "\u001b[1;32mc:\\Users\\Tomás Charrua\\OneDrive - Instituto Superior de Engenharia de Lisboa\\Faculdade\\4ºsemestre\\CSM\\TP3\\A49709_A49154_A49777_T3.ipynb Cell 21\u001b[0m in \u001b[0;36m4\n\u001b[0;32m      <a href='vscode-notebook-cell:/c%3A/Users/Tom%C3%A1s%20Charrua/OneDrive%20-%20Instituto%20Superior%20de%20Engenharia%20de%20Lisboa/Faculdade/4%C2%BAsemestre/CSM/TP3/A49709_A49154_A49777_T3.ipynb#X24sZmlsZQ%3D%3D?line=1'>2</a>\u001b[0m b \u001b[39m=\u001b[39m np\u001b[39m.\u001b[39marray(bloco)\n\u001b[0;32m      <a href='vscode-notebook-cell:/c%3A/Users/Tom%C3%A1s%20Charrua/OneDrive%20-%20Instituto%20Superior%20de%20Engenharia%20de%20Lisboa/Faculdade/4%C2%BAsemestre/CSM/TP3/A49709_A49154_A49777_T3.ipynb#X24sZmlsZQ%3D%3D?line=2'>3</a>\u001b[0m b \u001b[39m=\u001b[39m b \u001b[39m-\u001b[39m \u001b[39m128\u001b[39m\n\u001b[1;32m----> <a href='vscode-notebook-cell:/c%3A/Users/Tom%C3%A1s%20Charrua/OneDrive%20-%20Instituto%20Superior%20de%20Engenharia%20de%20Lisboa/Faculdade/4%C2%BAsemestre/CSM/TP3/A49709_A49154_A49777_T3.ipynb#X24sZmlsZQ%3D%3D?line=3'>4</a>\u001b[0m \u001b[39mreturn\u001b[39;00m np\u001b[39m.\u001b[39mround(cv\u001b[39m.\u001b[39;49mdct(b\u001b[39m.\u001b[39;49mastype(np\u001b[39m.\u001b[39;49mfloat32)), \u001b[39m2\u001b[39m)\n",
      "\u001b[1;31merror\u001b[0m: OpenCV(4.7.0) D:\\a\\opencv-python\\opencv-python\\opencv\\modules\\core\\src\\dxt.cpp:4417: error: (-215:Assertion failed) type == CV_32FC1 || type == CV_64FC1 in function 'cv::dct'\n"
     ]
    }
   ],
   "source": [
    "print(imagem_dividida.shape)\n",
    "imagem_dct = dct_blocos(imagem_dividida)\n",
    "\n",
    "T_imagem_idct = reverter_DCT(imagem_dct)\n",
    "T_imagem = reconstruir_imagem(T_imagem_idct, imagem.shape[0], imagem.shape[1]).astype('uint8')\n",
    "fig, (ax1, ax2) = plt.subplots(ncols=2, figsize=(15, 15))\n",
    "ax1.imshow(cv.cvtColor(imagem, cv.COLOR_BGR2RGB))\n",
    "ax1.set_title(\"Imagem Original\")\n",
    "ax2.imshow(cv.cvtColor(T_imagem, cv.COLOR_BGR2RGB))\n",
    "ax2.set_title(\"Imagem Depois da DCT inversa\")"
   ]
  },
  {
   "attachments": {},
   "cell_type": "markdown",
   "metadata": {},
   "source": [
    "# Exercício 2\n",
    "Construa uma função (codificador) que para cada bloco de 8 × 8 de coeficientes da transformação efectuada faça\n",
    "a divisão pela matriz de quantificação (tabela K1 no anexo da norma) multiplicada por um factor de qualidade q\n",
    "(ver função quality_factor do ficheiro Tabelas_jpeg.ipynb). Veja a imagem com o conjunto dos blocos após\n",
    "a quantificação. Construa uma função (descodificador) que realize a operação inversa da quantificação.\n",
    "Junte estas funções às já realizadas e verifique para diferentes fatores de qualidade qual a SNR e veja a imagem\n",
    "descodificada."
   ]
  },
  {
   "cell_type": "code",
   "execution_count": null,
   "metadata": {},
   "outputs": [],
   "source": []
  },
  {
   "attachments": {},
   "cell_type": "markdown",
   "metadata": {},
   "source": [
    "# Exercício 3\n",
    "Construa uma função (codificador) que faça a codificação diferencial dos coeficientes DC após a quantificação.\n",
    "Construa a função inversa para o descodificador\n"
   ]
  },
  {
   "cell_type": "code",
   "execution_count": null,
   "metadata": {},
   "outputs": [],
   "source": []
  },
  {
   "attachments": {},
   "cell_type": "markdown",
   "metadata": {},
   "source": [
    "# Exercício 4\n",
    "Construa uma função (codificador) que crie um array com a indexação em zig-zag dos coeficientes AC após a\n",
    "quantificação e crie um array com os pares (zero run length, nonzero value).\n",
    "Construa a função inversa para o descodificador.\n",
    "\n"
   ]
  },
  {
   "cell_type": "code",
   "execution_count": null,
   "metadata": {},
   "outputs": [],
   "source": []
  },
  {
   "attachments": {},
   "cell_type": "markdown",
   "metadata": {},
   "source": [
    "# Exercício 5\n",
    "Junte estas funções às já realizadas e veja a imagem descodificada."
   ]
  },
  {
   "cell_type": "code",
   "execution_count": null,
   "metadata": {},
   "outputs": [],
   "source": []
  },
  {
   "attachments": {},
   "cell_type": "markdown",
   "metadata": {},
   "source": [
    "# Exercício 6\n",
    "Construa uma função que dados os arrays das alíneas anteriores use as tabelas do código de Huffman (tabela K3\n",
    "e K5) e grave num ficheiro a sequência de bits correspondente. (não é necessário usar o formato JFIF)\n"
   ]
  },
  {
   "cell_type": "code",
   "execution_count": null,
   "metadata": {},
   "outputs": [],
   "source": []
  },
  {
   "attachments": {},
   "cell_type": "markdown",
   "metadata": {},
   "source": [
    "# Exercício 7\n",
    "Construa uma função que leia o ficheiro gravado e retorne os arrays com os coeficientes AC e DC.\n"
   ]
  },
  {
   "cell_type": "code",
   "execution_count": null,
   "metadata": {},
   "outputs": [],
   "source": []
  },
  {
   "attachments": {},
   "cell_type": "markdown",
   "metadata": {},
   "source": [
    "# Exercício 8\n",
    "Junte estas funções às já realizadas e veja a imagem descodificada.\n",
    "Para diferentes factores de qualidade meça a relação sinal-ruído e a taxa de compressão obtida. Represente um\n",
    "gráfico onde se apresente a taxa de compressão em função do SNR.\n",
    "\n"
   ]
  },
  {
   "cell_type": "code",
   "execution_count": null,
   "metadata": {},
   "outputs": [],
   "source": []
  },
  {
   "attachments": {},
   "cell_type": "markdown",
   "metadata": {},
   "source": [
    "# Exercício 9\n",
    "No mesmo gráfico compare o seu compressor de imagem com outros existentes para várias qualidades.\n"
   ]
  },
  {
   "cell_type": "code",
   "execution_count": null,
   "metadata": {},
   "outputs": [],
   "source": []
  },
  {
   "attachments": {},
   "cell_type": "markdown",
   "metadata": {},
   "source": [
    "# Exercício 10\n",
    "O Jupyter Notebook o deve conter uma descrição breve das funções realizadas e uma tabela com todos os\n",
    "resultados da SNR, taxa de compressão, tempo de compressão e descompressão.\n"
   ]
  },
  {
   "cell_type": "code",
   "execution_count": null,
   "metadata": {},
   "outputs": [],
   "source": []
  },
  {
   "attachments": {},
   "cell_type": "markdown",
   "metadata": {},
   "source": [
    "# Conclusões\n",
    "..."
   ]
  }
 ],
 "metadata": {
  "interpreter": {
   "hash": "b774dbeee4cb59b413f4f31ab0ccf87aaf14714dd2ed6038835fc85e828464ba"
  },
  "kernelspec": {
   "display_name": "Python 3.9.7 ('base')",
   "language": "python",
   "name": "python3"
  },
  "language_info": {
   "codemirror_mode": {
    "name": "ipython",
    "version": 3
   },
   "file_extension": ".py",
   "mimetype": "text/x-python",
   "name": "python",
   "nbconvert_exporter": "python",
   "pygments_lexer": "ipython3",
   "version": "3.9.7"
  },
  "orig_nbformat": 4
 },
 "nbformat": 4,
 "nbformat_minor": 2
}
